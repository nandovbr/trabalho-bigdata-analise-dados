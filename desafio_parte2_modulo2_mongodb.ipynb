{
 "cells": [
  {
   "cell_type": "code",
   "execution_count": 42,
   "metadata": {},
   "outputs": [
    {
     "name": "stdout",
     "output_type": "stream",
     "text": [
      "Requirement already satisfied: pymongo in /home/nandovbr/.local/lib/python3.8/site-packages (4.1.1)\n",
      "Note: you may need to restart the kernel to use updated packages.\n"
     ]
    }
   ],
   "source": [
    "#instalação do MongoDB\n",
    "%pip install pymongo"
   ]
  },
  {
   "cell_type": "code",
   "execution_count": 43,
   "metadata": {},
   "outputs": [],
   "source": [
    "# importação do monogoclient\n",
    "from pymongo import MongoClient"
   ]
  },
  {
   "cell_type": "code",
   "execution_count": 44,
   "metadata": {},
   "outputs": [],
   "source": [
    "#faz a conexão com o usuário e senha do mongodb\n",
    "conn_mongo = MongoClient('localhost', 27017, username='rootmongo', password='rootmongodb')"
   ]
  },
  {
   "cell_type": "code",
   "execution_count": 45,
   "metadata": {},
   "outputs": [
    {
     "data": {
      "text/plain": [
       "pymongo.mongo_client.MongoClient"
      ]
     },
     "execution_count": 45,
     "metadata": {},
     "output_type": "execute_result"
    }
   ],
   "source": [
    "# verificando se a concexão existe\n",
    "type(conn_mongo)"
   ]
  },
  {
   "cell_type": "code",
   "execution_count": 46,
   "metadata": {},
   "outputs": [],
   "source": [
    "#cria a base de dados em memória, ainda não aparece no Mongo enquanto não inserir pelo menos 1 dado\n",
    "database = conn_mongo.lista_chess"
   ]
  },
  {
   "cell_type": "code",
   "execution_count": 47,
   "metadata": {},
   "outputs": [],
   "source": [
    "#cria collection ainda não aparece no Mongo enquanto não inserir pelo menos 1 dado\n",
    "collection = database.dados_jogadores"
   ]
  },
  {
   "cell_type": "code",
   "execution_count": 48,
   "metadata": {},
   "outputs": [],
   "source": [
    "#imposrtanto lib json\n",
    "import json\n",
    "import os"
   ]
  },
  {
   "cell_type": "code",
   "execution_count": 49,
   "metadata": {},
   "outputs": [
    {
     "data": {
      "text/plain": [
       "'/home/nandovbr/igti-diversidata-tech-pan/diversidata_tech/Módulo2/base_dados_desafio_modulo2/lista_jogadores_chess.json'"
      ]
     },
     "execution_count": 49,
     "metadata": {},
     "output_type": "execute_result"
    }
   ],
   "source": [
    "diretorio = '/home/nandovbr/igti-diversidata-tech-pan/diversidata_tech/Módulo2/base_dados_desafio_modulo2/'\n",
    "arquivo_json = 'lista_jogadores_chess.json'\n",
    "local_arquivo_json = os.path.join(diretorio, arquivo_json)\n",
    "local_arquivo_json"
   ]
  },
  {
   "cell_type": "code",
   "execution_count": 50,
   "metadata": {},
   "outputs": [],
   "source": [
    "# 'r' expressão para ler depois salva na variavel file. dados_arquivo salva os dados da leitura do file\n",
    "with open (local_arquivo_json, 'r') as file:\n",
    "    dados_arquivo = file.read()"
   ]
  },
  {
   "cell_type": "code",
   "execution_count": null,
   "metadata": {},
   "outputs": [],
   "source": [
    "dados_arquivo"
   ]
  },
  {
   "cell_type": "code",
   "execution_count": null,
   "metadata": {},
   "outputs": [],
   "source": [
    "# passando para o formato json para ser inserido no Mongo\n",
    "dados_json = json.loads(dados_arquivo)\n",
    "dados_json"
   ]
  },
  {
   "cell_type": "code",
   "execution_count": null,
   "metadata": {},
   "outputs": [],
   "source": [
    "# inserindo dados no Mongo á partir de user, passando pra dentro dele em diante (como se fosse a camada seguinte)\n",
    "for item in dados_json['user']:\n",
    "    #print(item)\n",
    "    playerId = collection.insert_one(item)\n",
    "    #print(playerId)\n",
    "    playerId.inserted_id\n",
    "    #print(playerId.inserted_id)"
   ]
  },
  {
   "cell_type": "code",
   "execution_count": 56,
   "metadata": {},
   "outputs": [
    {
     "data": {
      "text/plain": [
       "1332"
      ]
     },
     "execution_count": 56,
     "metadata": {},
     "output_type": "execute_result"
    }
   ],
   "source": [
    "#conta quantos dados temos na collection\n",
    "database.dados_jogadores.estimated_document_count()"
   ]
  },
  {
   "cell_type": "code",
   "execution_count": null,
   "metadata": {},
   "outputs": [],
   "source": []
  }
 ],
 "metadata": {
  "interpreter": {
   "hash": "916dbcbb3f70747c44a77c7bcd40155683ae19c65e1c03b4aa3499c5328201f1"
  },
  "kernelspec": {
   "display_name": "Python 3.8.10 64-bit",
   "language": "python",
   "name": "python3"
  },
  "language_info": {
   "codemirror_mode": {
    "name": "ipython",
    "version": 3
   },
   "file_extension": ".py",
   "mimetype": "text/x-python",
   "name": "python",
   "nbconvert_exporter": "python",
   "pygments_lexer": "ipython3",
   "version": "3.8.10"
  },
  "orig_nbformat": 4
 },
 "nbformat": 4,
 "nbformat_minor": 2
}
